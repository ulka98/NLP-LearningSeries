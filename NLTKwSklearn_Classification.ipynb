{
 "cells": [
  {
   "cell_type": "markdown",
   "id": "223b4ac5",
   "metadata": {},
   "source": [
    "## NLTK with Sklearn\n",
    "It is a very powerful combination for NLP as Sklearn is a diverse module and incorporating it in our usecases is definitely a must. \n",
    "<br> In this notebook, we will again create the test&train data and pickled classifier (to get the initial/baseline accuracy) and the compare the accuracies of different sklearn classifier we will be training on the test data."
   ]
  },
  {
   "cell_type": "code",
   "execution_count": 23,
   "id": "ab2dfdbe",
   "metadata": {},
   "outputs": [],
   "source": [
    "#importing necessary modules\n",
    "import nltk\n",
    "import pickle\n",
    "import random\n",
    "from nltk.corpus import movie_reviews\n",
    "from nltk.classify.scikitlearn import SklearnClassifier\n",
    "# A few variations of NaibeBayes\n",
    "from sklearn.naive_bayes import MultinomialNB,BernoulliNB \n",
    "#Other sklearn classifiers\n",
    "from sklearn.linear_model import LogisticRegression,SGDClassifier\n",
    "from sklearn.svm import SVC, LinearSVC, NuSVC"
   ]
  },
  {
   "cell_type": "code",
   "execution_count": 24,
   "id": "ba7551c7",
   "metadata": {},
   "outputs": [],
   "source": [
    "documents = [(list(movie_reviews.words(fileid)), category)\n",
    "             for category in movie_reviews.categories()\n",
    "             for fileid in movie_reviews.fileids(category)]\n",
    "\n",
    "random.shuffle(documents)"
   ]
  },
  {
   "cell_type": "code",
   "execution_count": 25,
   "id": "058aee17",
   "metadata": {},
   "outputs": [],
   "source": [
    "all_words = []\n",
    "for w in movie_reviews.words():\n",
    "    all_words.append(w.lower())\n",
    "\n",
    "all_words = nltk.FreqDist(all_words)\n",
    "word_features = list(all_words.keys())[:3000]"
   ]
  },
  {
   "cell_type": "code",
   "execution_count": 26,
   "id": "f37cdfa7",
   "metadata": {},
   "outputs": [],
   "source": [
    "def find_features(document):\n",
    "    words = set(document)\n",
    "    features = {}\n",
    "    for w in word_features:\n",
    "        features[w] = (w in words)\n",
    "\n",
    "    return features"
   ]
  },
  {
   "cell_type": "code",
   "execution_count": 27,
   "id": "81a92de4",
   "metadata": {},
   "outputs": [],
   "source": [
    "featuresets = [(find_features(rev), category) for (rev, category) in documents]\n",
    "#Splitting the data into train and test\n",
    "training_set = featuresets[:1900]\n",
    "testing_set = featuresets[1900:]"
   ]
  },
  {
   "cell_type": "code",
   "execution_count": 28,
   "id": "8c1b4a78",
   "metadata": {},
   "outputs": [],
   "source": [
    "#importing the baseline classifier\n",
    "classifier_f = open(\"naivebayes_nlp_txt_clsf.pickle\", \"rb\")\n",
    "classifier_basline = pickle.load(classifier_f)\n",
    "classifier_f.close()"
   ]
  },
  {
   "cell_type": "code",
   "execution_count": 29,
   "id": "406faff7",
   "metadata": {},
   "outputs": [
    {
     "name": "stdout",
     "output_type": "stream",
     "text": [
      "The accuarcy of initial classifier from NLTK which can serve as a baseline model: 92.0\n"
     ]
    }
   ],
   "source": [
    "print(f'The accuarcy of initial classifier from NLTK which can serve as a baseline model: {nltk.classify.accuracy(classifier_basline, testing_set)*100}')"
   ]
  },
  {
   "cell_type": "code",
   "execution_count": 30,
   "id": "8247b42e",
   "metadata": {},
   "outputs": [
    {
     "name": "stdout",
     "output_type": "stream",
     "text": [
      "The accuarcy of MultinomialNB_classifier model: 82.0\n"
     ]
    }
   ],
   "source": [
    "MultinomialNB_classifier = SklearnClassifier(MultinomialNB())\n",
    "MultinomialNB_classifier.train(training_set)\n",
    "print(f'The accuarcy of MultinomialNB_classifier model: {nltk.classify.accuracy(MultinomialNB_classifier, testing_set)*100}')"
   ]
  },
  {
   "cell_type": "code",
   "execution_count": 31,
   "id": "6c03f037",
   "metadata": {},
   "outputs": [
    {
     "name": "stdout",
     "output_type": "stream",
     "text": [
      "The accuarcy of BernoulliNB_classifier model: 82.0\n"
     ]
    }
   ],
   "source": [
    "BernoulliNB_classifier = SklearnClassifier(BernoulliNB())\n",
    "BernoulliNB_classifier.train(training_set)\n",
    "print(f'The accuarcy of BernoulliNB_classifier model: {nltk.classify.accuracy(BernoulliNB_classifier, testing_set)*100}')"
   ]
  },
  {
   "cell_type": "code",
   "execution_count": 32,
   "id": "58c584a6",
   "metadata": {},
   "outputs": [
    {
     "name": "stderr",
     "output_type": "stream",
     "text": [
      "/opt/anaconda3/lib/python3.9/site-packages/sklearn/linear_model/_logistic.py:814: ConvergenceWarning: lbfgs failed to converge (status=1):\n",
      "STOP: TOTAL NO. of ITERATIONS REACHED LIMIT.\n",
      "\n",
      "Increase the number of iterations (max_iter) or scale the data as shown in:\n",
      "    https://scikit-learn.org/stable/modules/preprocessing.html\n",
      "Please also refer to the documentation for alternative solver options:\n",
      "    https://scikit-learn.org/stable/modules/linear_model.html#logistic-regression\n",
      "  n_iter_i = _check_optimize_result(\n"
     ]
    },
    {
     "name": "stdout",
     "output_type": "stream",
     "text": [
      "The accuarcy of LogisticRegression_classifier model: 83.0\n"
     ]
    }
   ],
   "source": [
    "LogisticRegression_classifier = SklearnClassifier(LogisticRegression())\n",
    "LogisticRegression_classifier.train(training_set)\n",
    "print(f'The accuarcy of LogisticRegression_classifier model: {nltk.classify.accuracy(LogisticRegression_classifier, testing_set)*100}')"
   ]
  },
  {
   "cell_type": "code",
   "execution_count": 33,
   "id": "872fc653",
   "metadata": {},
   "outputs": [
    {
     "name": "stdout",
     "output_type": "stream",
     "text": [
      "The accuarcy of SGDClassifier_classifier model: 86.0\n"
     ]
    }
   ],
   "source": [
    "SGDClassifier_classifier = SklearnClassifier(SGDClassifier())\n",
    "SGDClassifier_classifier.train(training_set)\n",
    "print(f'The accuarcy of SGDClassifier_classifier model: {nltk.classify.accuracy(SGDClassifier_classifier, testing_set)*100}')"
   ]
  },
  {
   "cell_type": "code",
   "execution_count": 34,
   "id": "6a219bee",
   "metadata": {},
   "outputs": [
    {
     "name": "stdout",
     "output_type": "stream",
     "text": [
      "The accuarcy of SVC_classifier model: 88.0\n"
     ]
    }
   ],
   "source": [
    "SVC_classifier = SklearnClassifier(SVC())\n",
    "SVC_classifier.train(training_set)\n",
    "print(f'The accuarcy of SVC_classifier model: {nltk.classify.accuracy(SVC_classifier, testing_set)*100}')"
   ]
  },
  {
   "cell_type": "code",
   "execution_count": 35,
   "id": "fe57ef99",
   "metadata": {},
   "outputs": [
    {
     "name": "stdout",
     "output_type": "stream",
     "text": [
      "The accuarcy of LinearSVC_classifier model: 82.0\n"
     ]
    }
   ],
   "source": [
    "LinearSVC_classifier = SklearnClassifier(LinearSVC())\n",
    "LinearSVC_classifier.train(training_set)\n",
    "print(f'The accuarcy of LinearSVC_classifier model: {nltk.classify.accuracy(LinearSVC_classifier, testing_set)*100}')"
   ]
  },
  {
   "cell_type": "code",
   "execution_count": 36,
   "id": "c3c07610",
   "metadata": {},
   "outputs": [
    {
     "name": "stdout",
     "output_type": "stream",
     "text": [
      "The accuarcy of NuSVC_classifier model: 86.0\n"
     ]
    }
   ],
   "source": [
    "NuSVC_classifier = SklearnClassifier(NuSVC())\n",
    "NuSVC_classifier.train(training_set)\n",
    "print(f'The accuarcy of NuSVC_classifier model: {nltk.classify.accuracy(NuSVC_classifier, testing_set)*100}')"
   ]
  },
  {
   "cell_type": "markdown",
   "id": "dd12151f",
   "metadata": {},
   "source": [
    "## Well, it seems like the baseline model is what is performing thr best. LOL!!!"
   ]
  },
  {
   "cell_type": "code",
   "execution_count": null,
   "id": "68d25f66",
   "metadata": {},
   "outputs": [],
   "source": [
    " "
   ]
  }
 ],
 "metadata": {
  "kernelspec": {
   "display_name": "Python 3 (ipykernel)",
   "language": "python",
   "name": "python3"
  },
  "language_info": {
   "codemirror_mode": {
    "name": "ipython",
    "version": 3
   },
   "file_extension": ".py",
   "mimetype": "text/x-python",
   "name": "python",
   "nbconvert_exporter": "python",
   "pygments_lexer": "ipython3",
   "version": "3.9.12"
  }
 },
 "nbformat": 4,
 "nbformat_minor": 5
}
