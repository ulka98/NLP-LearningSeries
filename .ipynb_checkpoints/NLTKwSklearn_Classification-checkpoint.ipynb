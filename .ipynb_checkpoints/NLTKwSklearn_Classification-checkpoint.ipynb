{
 "cells": [
  {
   "cell_type": "markdown",
   "id": "d1e4f970",
   "metadata": {},
   "source": [
    "## NLTK with Sklearn\n",
    "It is a very powerful combination for NLP as Sklearn is a diverse module and incorporating it in our usecases is definitely a must. \n",
    "<br> In this notebook, we will again create the test&train data and pickled classifier (to get the initial/baseline accuracy) and the compare the accuracies of different sklearn classifier we will be training on the test data."
   ]
  },
  {
   "cell_type": "code",
   "execution_count": 3,
   "id": "e09599b7",
   "metadata": {},
   "outputs": [],
   "source": [
    "#importing necessary modules\n",
    "import nltk\n",
    "import pickle\n",
    "import random\n",
    "from nltk.corpus import movie_reviews\n",
    "from nltk.classify.scikitlearn import SklearnClassifier\n",
    "# A few variations of NaibeBayes\n",
    "from sklearn.naive_bayes import MultinomialNB,BernoulliNB \n",
    "#Other sklearn classifiers\n",
    "from sklearn.linear_model import LogisticRegression,SGDClassifier\n",
    "from sklearn.svm import SVC, LinearSVC, NuSVC"
   ]
  },
  {
   "cell_type": "code",
   "execution_count": 8,
   "id": "2a7f7b94",
   "metadata": {},
   "outputs": [],
   "source": [
    "documents = [(list(movie_reviews.words(fileid)), category)\n",
    "             for category in movie_reviews.categories()\n",
    "             for fileid in movie_reviews.fileids(category)]\n",
    "\n",
    "random.shuffle(documents)"
   ]
  },
  {
   "cell_type": "code",
   "execution_count": 9,
   "id": "871e5f78",
   "metadata": {},
   "outputs": [],
   "source": [
    "all_words = []\n",
    "for w in movie_reviews.words():\n",
    "    all_words.append(w.lower())\n",
    "\n",
    "all_words = nltk.FreqDist(all_words)\n",
    "word_features = list(all_words.keys())[:3000]"
   ]
  },
  {
   "cell_type": "code",
   "execution_count": 10,
   "id": "890b13c7",
   "metadata": {},
   "outputs": [],
   "source": [
    "def find_features(document):\n",
    "    words = set(document)\n",
    "    features = {}\n",
    "    for w in word_features:\n",
    "        features[w] = (w in words)\n",
    "\n",
    "    return features"
   ]
  },
  {
   "cell_type": "code",
   "execution_count": 11,
   "id": "1334d51d",
   "metadata": {},
   "outputs": [],
   "source": [
    "featuresets = [(find_features(rev), category) for (rev, category) in documents]\n",
    "#Splitting the data into train and test\n",
    "training_set = featuresets[:1900]\n",
    "testing_set = featuresets[1900:]"
   ]
  },
  {
   "cell_type": "code",
   "execution_count": 13,
   "id": "06ea265d",
   "metadata": {},
   "outputs": [],
   "source": [
    "#importing the baseline classifier\n",
    "classifier_f = open(\"naivebayes_nlp_txt_clsf.pickle\", \"rb\")\n",
    "classifier_basline = pickle.load(classifier_f)\n",
    "classifier_f.close()"
   ]
  },
  {
   "cell_type": "code",
   "execution_count": 15,
   "id": "4e1410ca",
   "metadata": {},
   "outputs": [
    {
     "name": "stdout",
     "output_type": "stream",
     "text": [
      "The accuarcy of initial classifier from NLTK which can serve as a baseline model: 92.0\n"
     ]
    }
   ],
   "source": [
    "print(f'The accuarcy of initial classifier from NLTK which can serve as a baseline model: {nltk.classify.accuracy(classifier_basline, testing_set)*100}')"
   ]
  },
  {
   "cell_type": "code",
   "execution_count": null,
   "id": "f251c071",
   "metadata": {},
   "outputs": [],
   "source": []
  }
 ],
 "metadata": {
  "kernelspec": {
   "display_name": "Python 3 (ipykernel)",
   "language": "python",
   "name": "python3"
  },
  "language_info": {
   "codemirror_mode": {
    "name": "ipython",
    "version": 3
   },
   "file_extension": ".py",
   "mimetype": "text/x-python",
   "name": "python",
   "nbconvert_exporter": "python",
   "pygments_lexer": "ipython3",
   "version": "3.9.12"
  }
 },
 "nbformat": 4,
 "nbformat_minor": 5
}
