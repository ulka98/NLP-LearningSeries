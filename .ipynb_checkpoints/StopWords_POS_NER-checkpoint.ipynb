{
 "cells": [
  {
   "cell_type": "code",
   "execution_count": 16,
   "id": "a41d633a",
   "metadata": {},
   "outputs": [
    {
     "name": "stderr",
     "output_type": "stream",
     "text": [
      "[nltk_data] Downloading package stopwords to /Users/ulka/nltk_data...\n",
      "[nltk_data]   Package stopwords is already up-to-date!\n"
     ]
    },
    {
     "data": {
      "text/plain": [
       "True"
      ]
     },
     "execution_count": 16,
     "metadata": {},
     "output_type": "execute_result"
    }
   ],
   "source": [
    "import nltk\n",
    "from nltk.corpus import stopwords\n",
    "from nltk.stem import PorterStemmer, SnowballStemmer\n",
    "from nltk.tokenize import sent_tokenize\n",
    "nltk.download('stopwords')"
   ]
  },
  {
   "cell_type": "markdown",
   "id": "308d287b",
   "metadata": {},
   "source": [
    "This is a one of the great speeeches delivered by Dr. A.P.J. Abhdul Kalam, the missile man of India. A great visionary every Indian youth looks upto. We will be using his speech as a text example."
   ]
  },
  {
   "cell_type": "code",
   "execution_count": 8,
   "id": "72fcfa28",
   "metadata": {},
   "outputs": [
    {
     "name": "stdout",
     "output_type": "stream",
     "text": [
      "Today, on this beautiful day, thinking about Swami Vivekananda, I am happy to see young people. I want to share a thought with all the youth present here, i have met, so far, 11 million youth like you. I have seen their hopes, experienced their pain, walked with their aspirations and heard through their despair. From all this I learned something about youth. I learnt, every youth wants to be unique, that is, YOU! But the world all around you is doing its best day and night, to make you just everybody else. Now the question is whether you want to be YOU or everybody else. Being like everybody else is convenient at first glance, but not satisfying in long vision. The challenge therefore, is that you have to fight the hardest battle, which any human being can ever imagine to fight. And never stop fighting untill you arrive at your designated place, that is UNIQUE YOU. To get the Unique you, there is a big battle. There are four things you need to have, to win that battle. The first is to set the goal, the second is to acquire the knowledge continuously, third is work hard with devotion and fourth is perseverance. If you have these four tools then you will definitely become UNIQUE YOU. Being Unique will require excellence. Excellence is self-imposed, self- directory life long process.Excellence is not by accident. It is process, where an individual, organisation or nation continuously strive to better oneself. The performance standards are set by themselves, they work on their dreams with focus and are prepared to take calculated results and do not get deterred by failures as they move towards their dreams. Then, they step up their dreams as they tend to their potential, in the process they increase their potential, and this is an unending life cycle phenomenon. They are not in competition with anybody else, but themselves. That is the culture of Excellence.Students ought to think, and think well. They should do everything to build up a new state of India which would be everybody’s pride. I would like to ask yourself, what you would like to remembered for? You should write this on a page, and that page will be most important page in book of human history. And you will be remembered for creating that page in the history of nation.\n"
     ]
    }
   ],
   "source": [
    "raw_paragraph = \"Today, on this beautiful day, thinking about Swami Vivekananda, I am happy to see young people. I want to share a thought with all the youth present here, i have met, so far, 11 million youth like you. I have seen their hopes, experienced their pain, walked with their aspirations and heard through their despair. From all this I learned something about youth. I learnt, every youth wants to be unique, that is, YOU! But the world all around you is doing its best day and night, to make you just everybody else. Now the question is whether you want to be YOU or everybody else. Being like everybody else is convenient at first glance, but not satisfying in long vision. The challenge therefore, is that you have to fight the hardest battle, which any human being can ever imagine to fight. And never stop fighting untill you arrive at your designated place, that is UNIQUE YOU. To get the Unique you, there is a big battle. There are four things you need to have, to win that battle. The first is to set the goal, the second is to acquire the knowledge continuously, third is work hard with devotion and fourth is perseverance. If you have these four tools then you will definitely become UNIQUE YOU. Being Unique will require excellence. Excellence is self-imposed, self- directory life long process.Excellence is not by accident. It is process, where an individual, organisation or nation continuously strive to better oneself. The performance standards are set by themselves, they work on their dreams with focus and are prepared to take calculated results and do not get deterred by failures as they move towards their dreams. Then, they step up their dreams as they tend to their potential, in the process they increase their potential, and this is an unending life cycle phenomenon. They are not in competition with anybody else, but themselves. That is the culture of Excellence.Students ought to think, and think well. They should do everything to build up a new state of India which would be everybody’s pride. I would like to ask yourself, what you would like to remembered for? You should write this on a page, and that page will be most important page in book of human history. And you will be remembered for creating that page in the history of nation.\"\n",
    "print(raw_paragraph)"
   ]
  },
  {
   "cell_type": "code",
   "execution_count": 12,
   "id": "d8529c72",
   "metadata": {},
   "outputs": [
    {
     "name": "stdout",
     "output_type": "stream",
     "text": [
      "['i', 'me', 'my', 'myself', 'we', 'our', 'ours', 'ourselves', 'you', \"you're\", \"you've\", \"you'll\", \"you'd\", 'your', 'yours', 'yourself', 'yourselves', 'he', 'him', 'his', 'himself', 'she', \"she's\", 'her', 'hers', 'herself', 'it', \"it's\", 'its', 'itself', 'they', 'them', 'their', 'theirs', 'themselves', 'what', 'which', 'who', 'whom', 'this', 'that', \"that'll\", 'these', 'those', 'am', 'is', 'are', 'was', 'were', 'be', 'been', 'being', 'have', 'has', 'had', 'having', 'do', 'does', 'did', 'doing', 'a', 'an', 'the', 'and', 'but', 'if', 'or', 'because', 'as', 'until', 'while', 'of', 'at', 'by', 'for', 'with', 'about', 'against', 'between', 'into', 'through', 'during', 'before', 'after', 'above', 'below', 'to', 'from', 'up', 'down', 'in', 'out', 'on', 'off', 'over', 'under', 'again', 'further', 'then', 'once', 'here', 'there', 'when', 'where', 'why', 'how', 'all', 'any', 'both', 'each', 'few', 'more', 'most', 'other', 'some', 'such', 'no', 'nor', 'not', 'only', 'own', 'same', 'so', 'than', 'too', 'very', 's', 't', 'can', 'will', 'just', 'don', \"don't\", 'should', \"should've\", 'now', 'd', 'll', 'm', 'o', 're', 've', 'y', 'ain', 'aren', \"aren't\", 'couldn', \"couldn't\", 'didn', \"didn't\", 'doesn', \"doesn't\", 'hadn', \"hadn't\", 'hasn', \"hasn't\", 'haven', \"haven't\", 'isn', \"isn't\", 'ma', 'mightn', \"mightn't\", 'mustn', \"mustn't\", 'needn', \"needn't\", 'shan', \"shan't\", 'shouldn', \"shouldn't\", 'wasn', \"wasn't\", 'weren', \"weren't\", 'won', \"won't\", 'wouldn', \"wouldn't\"]\n"
     ]
    }
   ],
   "source": [
    "#Lets view the list of stopwords in the English Language\n",
    "print(stopwords.words('english'))"
   ]
  },
  {
   "cell_type": "code",
   "execution_count": 14,
   "id": "68a5c77b",
   "metadata": {
    "collapsed": true
   },
   "outputs": [
    {
     "name": "stdout",
     "output_type": "stream",
     "text": [
      "['de', 'la', 'que', 'el', 'en', 'y', 'a', 'los', 'del', 'se', 'las', 'por', 'un', 'para', 'con', 'no', 'una', 'su', 'al', 'lo', 'como', 'más', 'pero', 'sus', 'le', 'ya', 'o', 'este', 'sí', 'porque', 'esta', 'entre', 'cuando', 'muy', 'sin', 'sobre', 'también', 'me', 'hasta', 'hay', 'donde', 'quien', 'desde', 'todo', 'nos', 'durante', 'todos', 'uno', 'les', 'ni', 'contra', 'otros', 'ese', 'eso', 'ante', 'ellos', 'e', 'esto', 'mí', 'antes', 'algunos', 'qué', 'unos', 'yo', 'otro', 'otras', 'otra', 'él', 'tanto', 'esa', 'estos', 'mucho', 'quienes', 'nada', 'muchos', 'cual', 'poco', 'ella', 'estar', 'estas', 'algunas', 'algo', 'nosotros', 'mi', 'mis', 'tú', 'te', 'ti', 'tu', 'tus', 'ellas', 'nosotras', 'vosotros', 'vosotras', 'os', 'mío', 'mía', 'míos', 'mías', 'tuyo', 'tuya', 'tuyos', 'tuyas', 'suyo', 'suya', 'suyos', 'suyas', 'nuestro', 'nuestra', 'nuestros', 'nuestras', 'vuestro', 'vuestra', 'vuestros', 'vuestras', 'esos', 'esas', 'estoy', 'estás', 'está', 'estamos', 'estáis', 'están', 'esté', 'estés', 'estemos', 'estéis', 'estén', 'estaré', 'estarás', 'estará', 'estaremos', 'estaréis', 'estarán', 'estaría', 'estarías', 'estaríamos', 'estaríais', 'estarían', 'estaba', 'estabas', 'estábamos', 'estabais', 'estaban', 'estuve', 'estuviste', 'estuvo', 'estuvimos', 'estuvisteis', 'estuvieron', 'estuviera', 'estuvieras', 'estuviéramos', 'estuvierais', 'estuvieran', 'estuviese', 'estuvieses', 'estuviésemos', 'estuvieseis', 'estuviesen', 'estando', 'estado', 'estada', 'estados', 'estadas', 'estad', 'he', 'has', 'ha', 'hemos', 'habéis', 'han', 'haya', 'hayas', 'hayamos', 'hayáis', 'hayan', 'habré', 'habrás', 'habrá', 'habremos', 'habréis', 'habrán', 'habría', 'habrías', 'habríamos', 'habríais', 'habrían', 'había', 'habías', 'habíamos', 'habíais', 'habían', 'hube', 'hubiste', 'hubo', 'hubimos', 'hubisteis', 'hubieron', 'hubiera', 'hubieras', 'hubiéramos', 'hubierais', 'hubieran', 'hubiese', 'hubieses', 'hubiésemos', 'hubieseis', 'hubiesen', 'habiendo', 'habido', 'habida', 'habidos', 'habidas', 'soy', 'eres', 'es', 'somos', 'sois', 'son', 'sea', 'seas', 'seamos', 'seáis', 'sean', 'seré', 'serás', 'será', 'seremos', 'seréis', 'serán', 'sería', 'serías', 'seríamos', 'seríais', 'serían', 'era', 'eras', 'éramos', 'erais', 'eran', 'fui', 'fuiste', 'fue', 'fuimos', 'fuisteis', 'fueron', 'fuera', 'fueras', 'fuéramos', 'fuerais', 'fueran', 'fuese', 'fueses', 'fuésemos', 'fueseis', 'fuesen', 'sintiendo', 'sentido', 'sentida', 'sentidos', 'sentidas', 'siente', 'sentid', 'tengo', 'tienes', 'tiene', 'tenemos', 'tenéis', 'tienen', 'tenga', 'tengas', 'tengamos', 'tengáis', 'tengan', 'tendré', 'tendrás', 'tendrá', 'tendremos', 'tendréis', 'tendrán', 'tendría', 'tendrías', 'tendríamos', 'tendríais', 'tendrían', 'tenía', 'tenías', 'teníamos', 'teníais', 'tenían', 'tuve', 'tuviste', 'tuvo', 'tuvimos', 'tuvisteis', 'tuvieron', 'tuviera', 'tuvieras', 'tuviéramos', 'tuvierais', 'tuvieran', 'tuviese', 'tuvieses', 'tuviésemos', 'tuvieseis', 'tuviesen', 'teniendo', 'tenido', 'tenida', 'tenidos', 'tenidas', 'tened']\n"
     ]
    }
   ],
   "source": [
    "#Lets view the list of stopwords in the spanish Language\n",
    "print(stopwords.words('spanish'))"
   ]
  },
  {
   "cell_type": "code",
   "execution_count": 15,
   "id": "1d3b71ca",
   "metadata": {},
   "outputs": [
    {
     "name": "stdout",
     "output_type": "stream",
     "text": [
      "['arabic', 'azerbaijani', 'basque', 'bengali', 'catalan', 'chinese', 'danish', 'dutch', 'english', 'finnish', 'french', 'german', 'greek', 'hebrew', 'hinglish', 'hungarian', 'indonesian', 'italian', 'kazakh', 'nepali', 'norwegian', 'portuguese', 'romanian', 'russian', 'slovene', 'spanish', 'swedish', 'tajik', 'turkish']\n"
     ]
    }
   ],
   "source": [
    "#Following is the list of languages supported\n",
    "print(stopwords.fileids())"
   ]
  },
  {
   "cell_type": "code",
   "execution_count": 23,
   "id": "507cf4f4",
   "metadata": {},
   "outputs": [
    {
     "name": "stdout",
     "output_type": "stream",
     "text": [
      "Today, beautiful day, thinking Swami Vivekananda, I happy see young people. I want share thought youth present here, met, far, 11 million youth like you. I seen hopes, experienced pain, walked aspirations heard despair. From I learned something youth. I learnt, every youth wants unique, is, YOU! But world around best day night, make everybody else. Now question whether want YOU everybody else. Being like everybody else convenient first glance, satisfying long vision. The challenge therefore, fight hardest battle, human ever imagine fight. And never stop fighting untill arrive designated place, UNIQUE YOU. To get Unique you, big battle. There four things need have, win battle. The first set goal, second acquire knowledge continuously, third work hard devotion fourth perseverance. If four tools definitely become UNIQUE YOU. Being Unique require excellence. Excellence self-imposed, self- directory life long process.Excellence accident. It process, individual, organisation nation continuously strive better oneself. The performance standards set themselves, work dreams focus prepared take calculated results get deterred failures move towards dreams. Then, step dreams tend potential, process increase potential, unending life cycle phenomenon. They competition anybody else, themselves. That culture Excellence.Students ought think, think well. They everything build new state India would everybody’s pride. I would like ask yourself, would like remembered for? You write page, page important page book human history. And remembered creating page history nation. \n"
     ]
    }
   ],
   "source": [
    "#Let's remove the stopwords from the paragraph\n",
    "no_stopwords_paragraph = ''\n",
    "for sentence in sent_tokenize(raw_paragraph): # seperating the sentences by full stop\n",
    "    nostopwords = [word for word in sentence.split() if word not in stopwords.words('english')] #removing stopwords\n",
    "    #getitng it all together into a paragraph with no stopwords\n",
    "    no_stopwords_paragraph += ' '.join(nostopwords)\n",
    "    no_stopwords_paragraph += ' '\n",
    "print(no_stopwords_paragraph)"
   ]
  },
  {
   "cell_type": "code",
   "execution_count": 26,
   "id": "e5f60d76",
   "metadata": {},
   "outputs": [
    {
     "name": "stdout",
     "output_type": "stream",
     "text": [
      "today, beauti day, think swami vivekananda, i happi see young people. i want share thought youth present here, met, far, 11 million youth like you. i seen hopes, experienc pain, walk aspir heard despair. from i learn someth youth. i learnt, everi youth want unique, is, you! but world around best day night, make everybodi else. now question whether want you everybodi else. be like everybodi els conveni first glance, satisfi long vision. the challeng therefore, fight hardest battle, human ever imagin fight. and never stop fight until arriv design place, uniqu you. to get uniqu you, big battle. there four thing need have, win battle. the first set goal, second acquir knowledg continuously, third work hard devot fourth perseverance. if four tool definit becom uniqu you. be uniqu requir excellence. excel self-imposed, self- directori life long process.excel accident. it process, individual, organis nation continu strive better oneself. the perform standard set themselves, work dream focu prepar take calcul result get deter failur move toward dreams. then, step dream tend potential, process increas potential, unend life cycl phenomenon. they competit anybodi else, themselves. that cultur excellence.stud ought think, think well. they everyth build new state india would everybody’ pride. i would like ask yourself, would like rememb for? you write page, page import page book human history. and rememb creat page histori nation. \n"
     ]
    }
   ],
   "source": [
    "#Now lets first apply stemming and later lemmatization while removing stopwords in the same code\n",
    "#initialization\n",
    "p_stemmer = PorterStemmer()\n",
    "s_stemmer = SnowballStemmer('english')\n",
    "\n",
    "p_stem_paragraph = ''\n",
    "for sentence in sent_tokenize(raw_paragraph): # seperating the sentences by full stop\n",
    "    nostopwords = [p_stemmer.stem(word) for word in sentence.split() if word not in stopwords.words('english')] #removing stopwords\n",
    "    #getitng it all together into a paragraph with no stopwords\n",
    "    p_stem_paragraph += ' '.join(nostopwords)\n",
    "    p_stem_paragraph += ' '\n",
    "print(p_stem_paragraph)"
   ]
  },
  {
   "cell_type": "code",
   "execution_count": 27,
   "id": "dbda836c",
   "metadata": {},
   "outputs": [
    {
     "name": "stdout",
     "output_type": "stream",
     "text": [
      "today, beauti day, think swami vivekananda, i happi see young people. i want share thought youth present here, met, far, 11 million youth like you. i seen hopes, experienc pain, walk aspir heard despair. from i learn someth youth. i learnt, everi youth want unique, is, you! but world around best day night, make everybodi else. now question whether want you everybodi else. be like everybodi els conveni first glance, satisfi long vision. the challeng therefore, fight hardest battle, human ever imagin fight. and never stop fight until arriv design place, uniqu you. to get uniqu you, big battle. there four thing need have, win battle. the first set goal, second acquir knowledg continuously, third work hard devot fourth perseverance. if four tool definit becom uniqu you. be uniqu requir excellence. excel self-imposed, self- directori life long process.excel accident. it process, individual, organis nation continu strive better oneself. the perform standard set themselves, work dream focus prepar take calcul result get deter failur move toward dreams. then, step dream tend potential, process increas potential, unend life cycl phenomenon. they competit anybodi else, themselves. that cultur excellence.stud ought think, think well. they everyth build new state india would everybodi pride. i would like ask yourself, would like rememb for? you write page, page import page book human history. and rememb creat page histori nation. \n"
     ]
    }
   ],
   "source": [
    "p_stemmer = PorterStemmer()\n",
    "s_stemmer = SnowballStemmer('english')\n",
    "\n",
    "s_stem_paragraph = ''\n",
    "for sentence in sent_tokenize(raw_paragraph): # seperating the sentences by full stop\n",
    "    nostopwords = [s_stemmer.stem(word) for word in sentence.split() if word not in stopwords.words('english')] #removing stopwords\n",
    "    #getitng it all together into a paragraph with no stopwords\n",
    "    s_stem_paragraph += ' '.join(nostopwords)\n",
    "    s_stem_paragraph += ' '\n",
    "print(s_stem_paragraph)"
   ]
  },
  {
   "cell_type": "code",
   "execution_count": 29,
   "id": "6f03d65b",
   "metadata": {},
   "outputs": [
    {
     "name": "stdout",
     "output_type": "stream",
     "text": [
      "Today, beautiful day, think Swami Vivekananda, I happy see young people. I want share think youth present here, met, far, 11 million youth like you. I see hopes, experience pain, walk aspirations hear despair. From I learn something youth. I learnt, every youth want unique, is, YOU! But world around best day night, make everybody else. Now question whether want YOU everybody else. Being like everybody else convenient first glance, satisfy long vision. The challenge therefore, fight hardest battle, human ever imagine fight. And never stop fight untill arrive designate place, UNIQUE YOU. To get Unique you, big battle. There four things need have, win battle. The first set goal, second acquire knowledge continuously, third work hard devotion fourth perseverance. If four tool definitely become UNIQUE YOU. Being Unique require excellence. Excellence self-imposed, self- directory life long process.Excellence accident. It process, individual, organisation nation continuously strive better oneself. The performance standards set themselves, work dream focus prepare take calculate result get deter failures move towards dreams. Then, step dream tend potential, process increase potential, unending life cycle phenomenon. They competition anybody else, themselves. That culture Excellence.Students ought think, think well. They everything build new state India would everybody’s pride. I would like ask yourself, would like remember for? You write page, page important page book human history. And remember create page history nation. \n"
     ]
    }
   ],
   "source": [
    "# Since a lot of words are still inappropriately generated like 'beauti', 'rememb', 'creat', etc., we will use lemmatization\n",
    "from nltk.stem import WordNetLemmatizer\n",
    "lemmatizer = WordNetLemmatizer()\n",
    "lemma_paragraph = ''\n",
    "for sentence in sent_tokenize(raw_paragraph): # seperating the sentences by full stop\n",
    "    nostopwords = [lemmatizer.lemmatize(word,'v') for word in sentence.split() if word not in stopwords.words('english')] #removing stopwords\n",
    "    #getitng it all together into a paragraph with no stopwords\n",
    "    lemma_paragraph += ' '.join(nostopwords)\n",
    "    lemma_paragraph += ' '\n",
    "print(lemma_paragraph)"
   ]
  },
  {
   "cell_type": "markdown",
   "id": "8a1962a9",
   "metadata": {},
   "source": [
    "#### The Paragraph looks a lot much better now with lemmatization. \n",
    "### Now Lets delve a little deeper into what's called the Parts of Speech in English Language\n",
    "<br> '*The process of classifying words into their parts of speech and labeling them accordingly is known as part-of-speech tagging, POS-tagging, or simply tagging. Parts of speech are also known as word classes or lexical categories.*' as defined in the NLTK documentation\n",
    "<br> Take a look at the list of tags and their meanings below:"
   ]
  },
  {
   "cell_type": "raw",
   "id": "d9e13376",
   "metadata": {},
   "source": [
    "CC coordinating conjunction \n",
    "CD cardinal digit \n",
    "DT determiner \n",
    "EX existential there (like: “there is” … think of it like “there exists”) \n",
    "FW foreign word \n",
    "IN preposition/subordinating conjunction \n",
    "JJ adjective – ‘big’ \n",
    "JJR adjective, comparative – ‘bigger’ \n",
    "JJS adjective, superlative – ‘biggest’ \n",
    "LS list marker 1) \n",
    "MD modal – could, will \n",
    "NN noun, singular ‘- desk’ \n",
    "NNS noun plural – ‘desks’ \n",
    "NNP proper noun, singular – ‘Harrison’ \n",
    "NNPS proper noun, plural – ‘Americans’ \n",
    "PDT predeterminer – ‘all the kids’ \n",
    "POS possessive ending parent’s \n",
    "PRP personal pronoun –  I, he, she \n",
    "PRP$ possessive pronoun – my, his, hers \n",
    "RB adverb – very, silently, \n",
    "RBR adverb, comparative – better \n",
    "RBS adverb, superlative – best \n",
    "RP particle – give up \n",
    "TO – to go ‘to’ the store. \n",
    "UH interjection – errrrrrrrm \n",
    "VB verb, base form – take \n",
    "VBD verb, past tense – took \n",
    "VBG verb, gerund/present participle – taking \n",
    "VBN verb, past participle – taken \n",
    "VBP verb, sing. present, non-3d – take \n",
    "VBZ verb, 3rd person sing. present – takes \n",
    "WDT wh-determiner – which \n",
    "WP wh-pronoun – who, what \n",
    "WP$ possessive wh-pronoun, eg- whose \n",
    "WRB wh-adverb, eg- where, when"
   ]
  },
  {
   "cell_type": "code",
   "execution_count": 35,
   "id": "ab645107",
   "metadata": {},
   "outputs": [
    {
     "name": "stdout",
     "output_type": "stream",
     "text": [
      "1]  [('Today,', 'NNP'), ('beautiful', 'JJ'), ('day,', 'NN'), ('think', 'VBP'), ('Swami', 'NNP'), ('Vivekananda,', 'NNP'), ('I', 'PRP'), ('happy', 'JJ'), ('see', 'VBP'), ('young', 'JJ'), ('people.', 'NN')]\n",
      "2]  [('I', 'PRP'), ('want', 'VBP'), ('share', 'NN'), ('think', 'VBP'), ('youth', 'RB'), ('present', 'JJ'), ('here,', 'NN'), ('met,', 'NN'), ('far,', '$'), ('11', 'CD'), ('million', 'CD'), ('youth', 'NN'), ('like', 'IN'), ('you.', 'NN')]\n",
      "3]  [('I', 'PRP'), ('see', 'VBP'), ('hopes,', 'JJ'), ('experience', 'NN'), ('pain,', 'NN'), ('walk', 'VBP'), ('aspirations', 'NNS'), ('hear', 'VBP'), ('despair.', 'NN')]\n",
      "4]  [('From', 'IN'), ('I', 'PRP'), ('learn', 'VBP'), ('something', 'NN'), ('youth.', 'NN')]\n",
      "5]  [('I', 'PRP'), ('learnt,', 'VBP'), ('every', 'DT'), ('youth', 'NN'), ('want', 'VBP'), ('unique,', 'JJ'), ('is,', 'NN'), ('YOU!', 'NN')]\n",
      "6]  [('But', 'CC'), ('world', 'NN'), ('around', 'RB'), ('best', 'RB'), ('day', 'NN'), ('night,', 'JJ'), ('make', 'VB'), ('everybody', 'NN'), ('else.', 'NN')]\n",
      "7]  [('Now', 'RB'), ('question', 'VBP'), ('whether', 'IN'), ('want', 'NN'), ('YOU', 'NNP'), ('everybody', 'NN'), ('else.', 'VB')]\n",
      "8]  [('Being', 'VBG'), ('like', 'IN'), ('everybody', 'NN'), ('else', 'RB'), ('convenient', 'VBD'), ('first', 'JJ'), ('glance,', 'NN'), ('satisfy', 'NN'), ('long', 'RB'), ('vision.', 'NN')]\n",
      "9]  [('The', 'DT'), ('challenge', 'NN'), ('therefore,', 'NN'), ('fight', 'NN'), ('hardest', 'JJS'), ('battle,', 'NN'), ('human', 'JJ'), ('ever', 'RB'), ('imagine', 'VBP'), ('fight.', 'NN')]\n",
      "10]  [('And', 'CC'), ('never', 'RB'), ('stop', 'VB'), ('fight', 'NN'), ('untill', 'JJ'), ('arrive', 'JJ'), ('designate', 'NN'), ('place,', 'NN'), ('UNIQUE', 'NNP'), ('YOU.', 'NNP')]\n",
      "11]  [('To', 'TO'), ('get', 'VB'), ('Unique', 'NNP'), ('you,', 'NNP'), ('big', 'JJ'), ('battle.', 'NN')]\n",
      "12]  [('There', 'EX'), ('four', 'CD'), ('things', 'NNS'), ('need', 'VBP'), ('have,', 'JJ'), ('win', 'VB'), ('battle.', 'NN')]\n",
      "13]  [('The', 'DT'), ('first', 'JJ'), ('set', 'NN'), ('goal,', 'NN'), ('second', 'JJ'), ('acquire', 'VB'), ('knowledge', 'NN'), ('continuously,', 'NN'), ('third', 'JJ'), ('work', 'NN'), ('hard', 'JJ'), ('devotion', 'NN'), ('fourth', 'JJ'), ('perseverance.', 'NN')]\n",
      "14]  [('If', 'IN'), ('four', 'CD'), ('tool', 'NN'), ('definitely', 'RB'), ('become', 'JJ'), ('UNIQUE', 'NNP'), ('YOU.', 'NNP')]\n",
      "15]  [('Being', 'VBG'), ('Unique', 'NNP'), ('require', 'NN'), ('excellence.', 'NN')]\n",
      "16]  [('Excellence', 'NNP'), ('self-imposed,', 'JJ'), ('self-', 'JJ'), ('directory', 'NN'), ('life', 'NN'), ('long', 'JJ'), ('process.Excellence', 'NN'), ('accident.', 'NN')]\n",
      "17]  [('It', 'PRP'), ('process,', 'VBZ'), ('individual,', 'JJ'), ('organisation', 'NN'), ('nation', 'NN'), ('continuously', 'RB'), ('strive', 'JJ'), ('better', 'JJR'), ('oneself.', 'NN')]\n",
      "18]  [('The', 'DT'), ('performance', 'NN'), ('standards', 'NNS'), ('set', 'VBD'), ('themselves,', 'JJ'), ('work', 'NN'), ('dream', 'NN'), ('focus', 'NN'), ('prepare', 'JJ'), ('take', 'VB'), ('calculate', 'NN'), ('result', 'NN'), ('get', 'VBP'), ('deter', 'NN'), ('failures', 'NNS'), ('move', 'VBP'), ('towards', 'NNS'), ('dreams.', 'NN')]\n",
      "19]  [('Then,', 'NNP'), ('step', 'NN'), ('dream', 'NN'), ('tend', 'VBP'), ('potential,', 'NN'), ('process', 'NN'), ('increase', 'NN'), ('potential,', 'NN'), ('unending', 'JJ'), ('life', 'NN'), ('cycle', 'NN'), ('phenomenon.', 'NN')]\n",
      "20]  [('They', 'PRP'), ('competition', 'NN'), ('anybody', 'NN'), ('else,', 'VBZ'), ('themselves.', 'NN')]\n",
      "21]  [('That', 'DT'), ('culture', 'NN'), ('Excellence.Students', 'NNS'), ('ought', 'MD'), ('think,', 'VB'), ('think', 'VB'), ('well.', 'NN')]\n",
      "22]  [('They', 'PRP'), ('everything', 'NN'), ('build', 'VB'), ('new', 'JJ'), ('state', 'NN'), ('India', 'NNP'), ('would', 'MD'), ('everybody’s', 'VB'), ('pride.', 'NN')]\n",
      "23]  [('I', 'PRP'), ('would', 'MD'), ('like', 'VB'), ('ask', 'NN'), ('yourself,', 'PRP'), ('would', 'MD'), ('like', 'VB'), ('remember', 'VB'), ('for?', 'NN')]\n",
      "24]  [('You', 'PRP'), ('write', 'VBP'), ('page,', 'JJ'), ('page', 'NN'), ('important', 'JJ'), ('page', 'NN'), ('book', 'NN'), ('human', 'JJ'), ('history.', 'NN')]\n",
      "25]  [('And', 'CC'), ('remember', 'VB'), ('create', 'JJ'), ('page', 'NN'), ('history', 'NN'), ('nation.', 'NN')]\n"
     ]
    }
   ],
   "source": [
    "i = 1\n",
    "for sentence in sent_tokenize(lemma_paragraph):\n",
    "    print(str(i)+\"] \", end=' ')\n",
    "    print(nltk.pos_tag(sentence.split()))\n",
    "    i += 1"
   ]
  },
  {
   "cell_type": "markdown",
   "id": "1535c502",
   "metadata": {},
   "source": [
    "### Name Entity Recognition\n",
    "<br> It is primarily used for identifying names of individuals, organizations, locations, dates, numerical values, etc.  Let's start by importing the necessary libraries."
   ]
  },
  {
   "cell_type": "code",
   "execution_count": 37,
   "id": "5799db52",
   "metadata": {},
   "outputs": [
    {
     "name": "stderr",
     "output_type": "stream",
     "text": [
      "[nltk_data] Downloading package punkt to /Users/ulka/nltk_data...\n",
      "[nltk_data]   Package punkt is already up-to-date!\n",
      "[nltk_data] Downloading package averaged_perceptron_tagger to\n",
      "[nltk_data]     /Users/ulka/nltk_data...\n",
      "[nltk_data]   Package averaged_perceptron_tagger is already up-to-\n",
      "[nltk_data]       date!\n",
      "[nltk_data] Downloading package maxent_ne_chunker to\n",
      "[nltk_data]     /Users/ulka/nltk_data...\n",
      "[nltk_data]   Package maxent_ne_chunker is already up-to-date!\n",
      "[nltk_data] Downloading package words to /Users/ulka/nltk_data...\n",
      "[nltk_data]   Package words is already up-to-date!\n"
     ]
    },
    {
     "data": {
      "text/plain": [
       "True"
      ]
     },
     "execution_count": 37,
     "metadata": {},
     "output_type": "execute_result"
    }
   ],
   "source": [
    "nltk.download('punkt')\n",
    "nltk.download('averaged_perceptron_tagger')\n",
    "nltk.download('maxent_ne_chunker')\n",
    "nltk.download('words')"
   ]
  },
  {
   "cell_type": "code",
   "execution_count": 48,
   "id": "29168427",
   "metadata": {},
   "outputs": [
    {
     "name": "stdout",
     "output_type": "stream",
     "text": [
      "And remember create page history nation.\n"
     ]
    }
   ],
   "source": [
    "ex_sentence = \"George Herbert Walker Bush[a] (June 12, 1924 – November 30, 2018) was an American politician, diplomat, and businessman who served as the 41st president of the United States from 1989 to 1993.[2] A member of the Republican Party, he also served as the 43rd vice president from 1981 to 1989 under Ronald Reagan, and in various other federal positions prior to that.\"\n",
    "print(sentence)"
   ]
  },
  {
   "cell_type": "code",
   "execution_count": 49,
   "id": "75b6d552",
   "metadata": {},
   "outputs": [],
   "source": [
    "pos_tag_elements = nltk.pos_tag(nltk.word_tokenize(ex_sentence))\n",
    "nltk.ne_chunk(pos_tag_elements).draw()"
   ]
  },
  {
   "cell_type": "code",
   "execution_count": 52,
   "id": "22c79687",
   "metadata": {},
   "outputs": [
    {
     "name": "stdout",
     "output_type": "stream",
     "text": [
      "PERSON George\n",
      "PERSON Herbert Walker\n",
      "GPE American\n",
      "GPE United States\n",
      "ORGANIZATION Republican\n",
      "PERSON Ronald Reagan,\n"
     ]
    }
   ],
   "source": [
    "for sentence in sent_tokenize(ex_sentence):\n",
    "    for chunk in nltk.ne_chunk(nltk.pos_tag(sentence.split())):\n",
    "        #The hasattr() function returns True if the specified object has the specified attribute, otherwise False.\n",
    "        if hasattr(chunk, 'label'):\n",
    "            print(chunk.label(), ' '.join(c[0] for c in chunk))"
   ]
  },
  {
   "cell_type": "code",
   "execution_count": 53,
   "id": "9c4e77b8",
   "metadata": {},
   "outputs": [],
   "source": [
    "# There is another parameter called binary(by default = False), if set to True will avoid the further splits of entities. Observe."
   ]
  },
  {
   "cell_type": "code",
   "execution_count": 54,
   "id": "1e491850",
   "metadata": {},
   "outputs": [
    {
     "name": "stdout",
     "output_type": "stream",
     "text": [
      "NE George Herbert Walker\n",
      "NE American\n",
      "NE United States\n",
      "NE Republican\n",
      "NE Ronald\n"
     ]
    }
   ],
   "source": [
    "for sentence in sent_tokenize(ex_sentence):\n",
    "    for chunk in nltk.ne_chunk(nltk.pos_tag(sentence.split()),binary=True):\n",
    "        if hasattr(chunk, 'label'):\n",
    "            print(chunk.label(), ' '.join(c[0] for c in chunk))"
   ]
  },
  {
   "cell_type": "raw",
   "id": "06294e30",
   "metadata": {},
   "source": [
    "Here are the types of Named Entities that you can get if you have binary as false:\n",
    "\n",
    "NE Type and Examples\n",
    "ORGANIZATION - Georgia-Pacific Corp., WHO\n",
    "PERSON - Eddy Bonte, President Obama\n",
    "LOCATION - Murray River, Mount Everest\n",
    "DATE - June, 2008-06-29\n",
    "TIME - two fifty a m, 1:30 p.m.\n",
    "MONEY - 175 million Canadian Dollars, GBP 10.40\n",
    "PERCENT - twenty pct, 18.75 %\n",
    "FACILITY - Washington Monument, Stonehenge\n",
    "GPE - South East Asia, Midlothian"
   ]
  },
  {
   "cell_type": "code",
   "execution_count": null,
   "id": "5cd321c4",
   "metadata": {},
   "outputs": [],
   "source": []
  }
 ],
 "metadata": {
  "kernelspec": {
   "display_name": "Python 3 (ipykernel)",
   "language": "python",
   "name": "python3"
  },
  "language_info": {
   "codemirror_mode": {
    "name": "ipython",
    "version": 3
   },
   "file_extension": ".py",
   "mimetype": "text/x-python",
   "name": "python",
   "nbconvert_exporter": "python",
   "pygments_lexer": "ipython3",
   "version": "3.9.12"
  }
 },
 "nbformat": 4,
 "nbformat_minor": 5
}
