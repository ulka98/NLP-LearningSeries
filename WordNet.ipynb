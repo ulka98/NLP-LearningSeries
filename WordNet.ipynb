{
 "cells": [
  {
   "cell_type": "markdown",
   "id": "e593e816",
   "metadata": {},
   "source": [
    "## WordNet\n",
    "<br>WordNet is a lexical database for the English language, which was created by Princeton, and is part of the NLTK corpus. It can be used for various purposes ranging from identifying the synonyms and antonyms as well as the similarity percentage between words.\n",
    "<br> A very useful url to explore WordNet: https://www.nltk.org/api/nltk.corpus.reader.wordnet"
   ]
  },
  {
   "cell_type": "code",
   "execution_count": 1,
   "id": "4f7720d0",
   "metadata": {},
   "outputs": [
    {
     "name": "stderr",
     "output_type": "stream",
     "text": [
      "/opt/anaconda3/lib/python3.9/site-packages/scipy/__init__.py:146: UserWarning: A NumPy version >=1.16.5 and <1.23.0 is required for this version of SciPy (detected version 1.26.4\n",
      "  warnings.warn(f\"A NumPy version >={np_minversion} and <{np_maxversion}\"\n"
     ]
    }
   ],
   "source": [
    "from nltk.corpus import wordnet"
   ]
  },
  {
   "cell_type": "code",
   "execution_count": 3,
   "id": "45da307a",
   "metadata": {},
   "outputs": [
    {
     "name": "stdout",
     "output_type": "stream",
     "text": [
      "[Synset('computer.n.01'), Synset('calculator.n.01')]\n"
     ]
    }
   ],
   "source": [
    "syns1 = wordnet.synsets(\"Computer\") #The word Computer only has two meanings hence two synsets.\n",
    "print(syns1)"
   ]
  },
  {
   "cell_type": "code",
   "execution_count": 5,
   "id": "cb1eaf90",
   "metadata": {},
   "outputs": [
    {
     "name": "stdout",
     "output_type": "stream",
     "text": [
      "[Synset('plan.n.01'), Synset('design.n.02'), Synset('plan.n.03'), Synset('plan.v.01'), Synset('plan.v.02'), Synset('plan.v.03'), Synset('design.v.04')]\n"
     ]
    }
   ],
   "source": [
    "#let's try for a word with multiple meanings\n",
    "syns2 = wordnet.synsets(\"plan\")\n",
    "print(syns2)"
   ]
  },
  {
   "cell_type": "markdown",
   "id": "4794066c",
   "metadata": {},
   "source": [
    "As you will observe the synset has a pattern: <br> For example, 'plan.n.01', **plan** is the base synonym; **n** noun as in the part of speech and **01** is the nth synonymn\n",
    "<br> syns.lemmas() will give you the available/mapped lemmas for the synset. For the ease will we just take the first word."
   ]
  },
  {
   "cell_type": "code",
   "execution_count": 23,
   "id": "e964ae34",
   "metadata": {},
   "outputs": [
    {
     "name": "stdout",
     "output_type": "stream",
     "text": [
      "plan: a series of steps to be carried out or goals to be accomplished: ['they drew up a six-step plan', 'they discussed plans for a new bond issue']\n",
      "design: an arrangement scheme: ['the awkward design of the keyboard made operation difficult', 'it was an excellent design for living', 'a plan for seating guests']\n",
      "plan: scale drawing of a structure: ['the plans for City Hall were on file']\n",
      "plan: have the will and intention to carry out some action: ['He plans to be in graduate school next year', 'The rebels had planned turmoil and confusion']\n",
      "plan: make plans for something: ['He is planning a trip with his family']\n",
      "plan: make or work out a plan for; devise: ['They contrived to murder their boss', 'design a new sales strategy', 'plan an attack']\n",
      "design: make a design of; plan out in systematic, often graphic form: ['design a better mousetrap', 'plan the new wing of the museum']\n"
     ]
    }
   ],
   "source": [
    "#Lets try to print out the defination and example of each:\n",
    "for syns in wordnet.synsets(\"plan\"):\n",
    "    print(f'{syns.lemmas()[0].name()}: {syns.definition()}: {syns.examples()}')  "
   ]
  },
  {
   "cell_type": "code",
   "execution_count": 24,
   "id": "dae040ec",
   "metadata": {},
   "outputs": [],
   "source": [
    "import pandas as pd"
   ]
  },
  {
   "cell_type": "code",
   "execution_count": 34,
   "id": "1e3dc298",
   "metadata": {},
   "outputs": [],
   "source": [
    "#We will try to make it into a dataframe\n",
    "dictionary = pd.DataFrame(columns=['Word','Defination','Examples'])\n",
    "for syns in wordnet.synsets(\"plan\"):\n",
    "    df_new_row = pd.DataFrame({'Word':syns.lemmas()[0].name(),'Defination': syns.definition(), 'Examples': syns.examples()})\n",
    "    dictionary = pd.concat([dictionary, df_new_row])\n",
    "dictionary = dictionary.set_index('Word')"
   ]
  },
  {
   "cell_type": "code",
   "execution_count": 40,
   "id": "53a0e5c3",
   "metadata": {},
   "outputs": [],
   "source": [
    "dictionary = dictionary.groupby(['Word','Defination']).agg(';'.join)"
   ]
  },
  {
   "cell_type": "code",
   "execution_count": 41,
   "id": "a0a12f05",
   "metadata": {},
   "outputs": [
    {
     "data": {
      "text/html": [
       "<div>\n",
       "<style scoped>\n",
       "    .dataframe tbody tr th:only-of-type {\n",
       "        vertical-align: middle;\n",
       "    }\n",
       "\n",
       "    .dataframe tbody tr th {\n",
       "        vertical-align: top;\n",
       "    }\n",
       "\n",
       "    .dataframe thead th {\n",
       "        text-align: right;\n",
       "    }\n",
       "</style>\n",
       "<table border=\"1\" class=\"dataframe\">\n",
       "  <thead>\n",
       "    <tr style=\"text-align: right;\">\n",
       "      <th></th>\n",
       "      <th></th>\n",
       "      <th>Examples</th>\n",
       "    </tr>\n",
       "    <tr>\n",
       "      <th>Word</th>\n",
       "      <th>Defination</th>\n",
       "      <th></th>\n",
       "    </tr>\n",
       "  </thead>\n",
       "  <tbody>\n",
       "    <tr>\n",
       "      <th rowspan=\"2\" valign=\"top\">design</th>\n",
       "      <th>an arrangement scheme</th>\n",
       "      <td>the awkward design of the keyboard made operat...</td>\n",
       "    </tr>\n",
       "    <tr>\n",
       "      <th>make a design of; plan out in systematic, often graphic form</th>\n",
       "      <td>design a better mousetrap;plan the new wing of...</td>\n",
       "    </tr>\n",
       "    <tr>\n",
       "      <th rowspan=\"5\" valign=\"top\">plan</th>\n",
       "      <th>a series of steps to be carried out or goals to be accomplished</th>\n",
       "      <td>they drew up a six-step plan;they discussed pl...</td>\n",
       "    </tr>\n",
       "    <tr>\n",
       "      <th>have the will and intention to carry out some action</th>\n",
       "      <td>He plans to be in graduate school next year;Th...</td>\n",
       "    </tr>\n",
       "    <tr>\n",
       "      <th>make or work out a plan for; devise</th>\n",
       "      <td>They contrived to murder their boss;design a n...</td>\n",
       "    </tr>\n",
       "    <tr>\n",
       "      <th>make plans for something</th>\n",
       "      <td>He is planning a trip with his family</td>\n",
       "    </tr>\n",
       "    <tr>\n",
       "      <th>scale drawing of a structure</th>\n",
       "      <td>the plans for City Hall were on file</td>\n",
       "    </tr>\n",
       "  </tbody>\n",
       "</table>\n",
       "</div>"
      ],
      "text/plain": [
       "                                                                                                    Examples\n",
       "Word   Defination                                                                                           \n",
       "design an arrangement scheme                               the awkward design of the keyboard made operat...\n",
       "       make a design of; plan out in systematic, often...  design a better mousetrap;plan the new wing of...\n",
       "plan   a series of steps to be carried out or goals to...  they drew up a six-step plan;they discussed pl...\n",
       "       have the will and intention to carry out some a...  He plans to be in graduate school next year;Th...\n",
       "       make or work out a plan for; devise                 They contrived to murder their boss;design a n...\n",
       "       make plans for something                                        He is planning a trip with his family\n",
       "       scale drawing of a structure                                     the plans for City Hall were on file"
      ]
     },
     "execution_count": 41,
     "metadata": {},
     "output_type": "execute_result"
    }
   ],
   "source": [
    "dictionary"
   ]
  },
  {
   "cell_type": "code",
   "execution_count": 57,
   "id": "3048180e",
   "metadata": {},
   "outputs": [
    {
     "name": "stdout",
     "output_type": "stream",
     "text": [
      "{'trade_good', 'in_effect', 'full', 'practiced', 'near', 'ripe', 'estimable', 'adept', 'upright', 'dear', 'safe', 'well', 'undecomposed', 'proficient', 'goodness', 'honorable', 'soundly', 'unspoiled', 'just', 'unspoilt', 'right', 'salutary', 'expert', 'serious', 'commodity', 'respectable', 'dependable', 'beneficial', 'honest', 'effective', 'secure', 'good', 'skilful', 'sound', 'thoroughly', 'in_force', 'skillful'}\n",
      "{'badness', 'evil', 'bad', 'ill', 'evilness'}\n"
     ]
    }
   ],
   "source": [
    "# We will explore antonymns and synonymns\n",
    "synonymns = []\n",
    "antonymns = []\n",
    "pos_tag = {}\n",
    "for syns in wordnet.synsets(\"good\"):\n",
    "    for l in syns.lemmas():\n",
    "        synonymns.append(l.name())\n",
    "        if l.antonyms():\n",
    "            antonymns.append(l.antonyms()[0].name())\n",
    "print(set(synonymns))\n",
    "print(set(antonymns))"
   ]
  },
  {
   "cell_type": "markdown",
   "id": "2d230f5c",
   "metadata": {},
   "source": [
    "### Word Similarity\n",
    "<br>We can also easily use WordNet to compare the similarity of two words and their tenses, by incorporating the Wu and Palmer method for semantic related-ness."
   ]
  },
  {
   "cell_type": "code",
   "execution_count": 72,
   "id": "1e883ae2",
   "metadata": {},
   "outputs": [
    {
     "name": "stdout",
     "output_type": "stream",
     "text": [
      "0.5\n"
     ]
    }
   ],
   "source": [
    "w1 = wordnet.synset('happy.a.01')\n",
    "w2 = wordnet.synset('sad.a.01')\n",
    "print(w1.wup_similarity(w2))"
   ]
  },
  {
   "cell_type": "code",
   "execution_count": 74,
   "id": "e6038d1a",
   "metadata": {},
   "outputs": [
    {
     "name": "stdout",
     "output_type": "stream",
     "text": [
      "0.2857142857142857\n"
     ]
    }
   ],
   "source": [
    "w1 = wordnet.synset('bad.n.01')\n",
    "w2 = wordnet.synset('evil.n.01')\n",
    "print(w1.wup_similarity(w2))"
   ]
  },
  {
   "cell_type": "code",
   "execution_count": 75,
   "id": "114e3fc5",
   "metadata": {},
   "outputs": [
    {
     "name": "stdout",
     "output_type": "stream",
     "text": [
      "0.9090909090909091\n"
     ]
    }
   ],
   "source": [
    "w1 = wordnet.synset('ship.n.01')\n",
    "w2 = wordnet.synset('boat.n.01')\n",
    "print(w1.wup_similarity(w2))"
   ]
  },
  {
   "cell_type": "code",
   "execution_count": null,
   "id": "aeffb171",
   "metadata": {},
   "outputs": [],
   "source": []
  }
 ],
 "metadata": {
  "kernelspec": {
   "display_name": "Python 3 (ipykernel)",
   "language": "python",
   "name": "python3"
  },
  "language_info": {
   "codemirror_mode": {
    "name": "ipython",
    "version": 3
   },
   "file_extension": ".py",
   "mimetype": "text/x-python",
   "name": "python",
   "nbconvert_exporter": "python",
   "pygments_lexer": "ipython3",
   "version": "3.9.12"
  }
 },
 "nbformat": 4,
 "nbformat_minor": 5
}
